{
 "cells": [
  {
   "cell_type": "code",
   "execution_count": 1,
   "metadata": {},
   "outputs": [],
   "source": [
    "import pandas as pd\n",
    "import numpy as np"
   ]
  },
  {
   "cell_type": "code",
   "execution_count": 28,
   "metadata": {},
   "outputs": [
    {
     "data": {
      "text/html": [
       "<div>\n",
       "<style scoped>\n",
       "    .dataframe tbody tr th:only-of-type {\n",
       "        vertical-align: middle;\n",
       "    }\n",
       "\n",
       "    .dataframe tbody tr th {\n",
       "        vertical-align: top;\n",
       "    }\n",
       "\n",
       "    .dataframe thead th {\n",
       "        text-align: right;\n",
       "    }\n",
       "</style>\n",
       "<table border=\"1\" class=\"dataframe\">\n",
       "  <thead>\n",
       "    <tr style=\"text-align: right;\">\n",
       "      <th></th>\n",
       "      <th>order_id</th>\n",
       "      <th>quantity</th>\n",
       "      <th>item_name</th>\n",
       "      <th>choice_description</th>\n",
       "      <th>item_price</th>\n",
       "    </tr>\n",
       "  </thead>\n",
       "  <tbody>\n",
       "    <tr>\n",
       "      <th>4617</th>\n",
       "      <td>1833</td>\n",
       "      <td>1</td>\n",
       "      <td>Steak Burrito</td>\n",
       "      <td>[Fresh Tomato Salsa, [Rice, Black Beans, Sour ...</td>\n",
       "      <td>$11.75</td>\n",
       "    </tr>\n",
       "    <tr>\n",
       "      <th>4618</th>\n",
       "      <td>1833</td>\n",
       "      <td>1</td>\n",
       "      <td>Steak Burrito</td>\n",
       "      <td>[Fresh Tomato Salsa, [Rice, Sour Cream, Cheese...</td>\n",
       "      <td>$11.75</td>\n",
       "    </tr>\n",
       "    <tr>\n",
       "      <th>4619</th>\n",
       "      <td>1834</td>\n",
       "      <td>1</td>\n",
       "      <td>Chicken Salad Bowl</td>\n",
       "      <td>[Fresh Tomato Salsa, [Fajita Vegetables, Pinto...</td>\n",
       "      <td>$11.25</td>\n",
       "    </tr>\n",
       "    <tr>\n",
       "      <th>4620</th>\n",
       "      <td>1834</td>\n",
       "      <td>1</td>\n",
       "      <td>Chicken Salad Bowl</td>\n",
       "      <td>[Fresh Tomato Salsa, [Fajita Vegetables, Lettu...</td>\n",
       "      <td>$8.75</td>\n",
       "    </tr>\n",
       "    <tr>\n",
       "      <th>4621</th>\n",
       "      <td>1834</td>\n",
       "      <td>1</td>\n",
       "      <td>Chicken Salad Bowl</td>\n",
       "      <td>[Fresh Tomato Salsa, [Fajita Vegetables, Pinto...</td>\n",
       "      <td>$8.75</td>\n",
       "    </tr>\n",
       "  </tbody>\n",
       "</table>\n",
       "</div>"
      ],
      "text/plain": [
       "      order_id  quantity           item_name  \\\n",
       "4617      1833         1       Steak Burrito   \n",
       "4618      1833         1       Steak Burrito   \n",
       "4619      1834         1  Chicken Salad Bowl   \n",
       "4620      1834         1  Chicken Salad Bowl   \n",
       "4621      1834         1  Chicken Salad Bowl   \n",
       "\n",
       "                                     choice_description item_price  \n",
       "4617  [Fresh Tomato Salsa, [Rice, Black Beans, Sour ...    $11.75   \n",
       "4618  [Fresh Tomato Salsa, [Rice, Sour Cream, Cheese...    $11.75   \n",
       "4619  [Fresh Tomato Salsa, [Fajita Vegetables, Pinto...    $11.25   \n",
       "4620  [Fresh Tomato Salsa, [Fajita Vegetables, Lettu...     $8.75   \n",
       "4621  [Fresh Tomato Salsa, [Fajita Vegetables, Pinto...     $8.75   "
      ]
     },
     "execution_count": 28,
     "metadata": {},
     "output_type": "execute_result"
    }
   ],
   "source": [
    "df = pd.read_csv('chipotle.tsv',sep='\\t')\n",
    "df.tail()"
   ]
  },
  {
   "cell_type": "code",
   "execution_count": null,
   "metadata": {},
   "outputs": [
    {
     "data": {
      "text/html": [
       "<div>\n",
       "<style scoped>\n",
       "    .dataframe tbody tr th:only-of-type {\n",
       "        vertical-align: middle;\n",
       "    }\n",
       "\n",
       "    .dataframe tbody tr th {\n",
       "        vertical-align: top;\n",
       "    }\n",
       "\n",
       "    .dataframe thead th {\n",
       "        text-align: right;\n",
       "    }\n",
       "</style>\n",
       "<table border=\"1\" class=\"dataframe\">\n",
       "  <thead>\n",
       "    <tr style=\"text-align: right;\">\n",
       "      <th></th>\n",
       "      <th>order_id</th>\n",
       "      <th>quantity</th>\n",
       "      <th>item_name</th>\n",
       "      <th>choice_description</th>\n",
       "      <th>item_price</th>\n",
       "    </tr>\n",
       "  </thead>\n",
       "  <tbody>\n",
       "    <tr>\n",
       "      <th>0</th>\n",
       "      <td>1</td>\n",
       "      <td>1</td>\n",
       "      <td>Chips and Fresh Tomato Salsa</td>\n",
       "      <td>NaN</td>\n",
       "      <td>2.39</td>\n",
       "    </tr>\n",
       "    <tr>\n",
       "      <th>1</th>\n",
       "      <td>1</td>\n",
       "      <td>1</td>\n",
       "      <td>Izze</td>\n",
       "      <td>[Clementine]</td>\n",
       "      <td>3.39</td>\n",
       "    </tr>\n",
       "    <tr>\n",
       "      <th>2</th>\n",
       "      <td>1</td>\n",
       "      <td>1</td>\n",
       "      <td>Nantucket Nectar</td>\n",
       "      <td>[Apple]</td>\n",
       "      <td>3.39</td>\n",
       "    </tr>\n",
       "  </tbody>\n",
       "</table>\n",
       "</div>"
      ],
      "text/plain": [
       "   order_id  quantity                     item_name choice_description  \\\n",
       "0         1         1  Chips and Fresh Tomato Salsa                NaN   \n",
       "1         1         1                          Izze       [Clementine]   \n",
       "2         1         1              Nantucket Nectar            [Apple]   \n",
       "\n",
       "   item_price  \n",
       "0        2.39  \n",
       "1        3.39  \n",
       "2        3.39  "
      ]
     },
     "execution_count": 29,
     "metadata": {},
     "output_type": "execute_result"
    }
   ],
   "source": [
    "df.tail()\n",
    "# df.describe()\n",
    "\n",
    "def func(x):\n",
    "  return float(x[1:])\n",
    "\n",
    "df['item_price'] = df['item_price'].apply(func)\n",
    "# df['item_price'] = df['item_price'].apply(lambda x:float(x[1:]))\n",
    "df.head(3)"
   ]
  },
  {
   "cell_type": "code",
   "execution_count": 30,
   "metadata": {},
   "outputs": [
    {
     "name": "stdout",
     "output_type": "stream",
     "text": [
      "<class 'pandas.core.frame.DataFrame'>\n",
      "RangeIndex: 4622 entries, 0 to 4621\n",
      "Data columns (total 5 columns):\n",
      " #   Column              Non-Null Count  Dtype  \n",
      "---  ------              --------------  -----  \n",
      " 0   order_id            4622 non-null   int64  \n",
      " 1   quantity            4622 non-null   int64  \n",
      " 2   item_name           4622 non-null   object \n",
      " 3   choice_description  3376 non-null   object \n",
      " 4   item_price          4622 non-null   float64\n",
      "dtypes: float64(1), int64(2), object(2)\n",
      "memory usage: 180.7+ KB\n"
     ]
    }
   ],
   "source": [
    "df.info()"
   ]
  },
  {
   "cell_type": "code",
   "execution_count": 32,
   "metadata": {},
   "outputs": [
    {
     "data": {
      "text/html": [
       "<div>\n",
       "<style scoped>\n",
       "    .dataframe tbody tr th:only-of-type {\n",
       "        vertical-align: middle;\n",
       "    }\n",
       "\n",
       "    .dataframe tbody tr th {\n",
       "        vertical-align: top;\n",
       "    }\n",
       "\n",
       "    .dataframe thead th {\n",
       "        text-align: right;\n",
       "    }\n",
       "</style>\n",
       "<table border=\"1\" class=\"dataframe\">\n",
       "  <thead>\n",
       "    <tr style=\"text-align: right;\">\n",
       "      <th></th>\n",
       "      <th>order_id</th>\n",
       "      <th>quantity</th>\n",
       "      <th>item_price</th>\n",
       "    </tr>\n",
       "  </thead>\n",
       "  <tbody>\n",
       "    <tr>\n",
       "      <th>count</th>\n",
       "      <td>4622.000000</td>\n",
       "      <td>4622.000000</td>\n",
       "      <td>4622.000000</td>\n",
       "    </tr>\n",
       "    <tr>\n",
       "      <th>mean</th>\n",
       "      <td>927.254868</td>\n",
       "      <td>1.075725</td>\n",
       "      <td>7.464336</td>\n",
       "    </tr>\n",
       "    <tr>\n",
       "      <th>std</th>\n",
       "      <td>528.890796</td>\n",
       "      <td>0.410186</td>\n",
       "      <td>4.245557</td>\n",
       "    </tr>\n",
       "    <tr>\n",
       "      <th>min</th>\n",
       "      <td>1.000000</td>\n",
       "      <td>1.000000</td>\n",
       "      <td>1.090000</td>\n",
       "    </tr>\n",
       "    <tr>\n",
       "      <th>25%</th>\n",
       "      <td>477.250000</td>\n",
       "      <td>1.000000</td>\n",
       "      <td>3.390000</td>\n",
       "    </tr>\n",
       "    <tr>\n",
       "      <th>50%</th>\n",
       "      <td>926.000000</td>\n",
       "      <td>1.000000</td>\n",
       "      <td>8.750000</td>\n",
       "    </tr>\n",
       "    <tr>\n",
       "      <th>75%</th>\n",
       "      <td>1393.000000</td>\n",
       "      <td>1.000000</td>\n",
       "      <td>9.250000</td>\n",
       "    </tr>\n",
       "    <tr>\n",
       "      <th>max</th>\n",
       "      <td>1834.000000</td>\n",
       "      <td>15.000000</td>\n",
       "      <td>44.250000</td>\n",
       "    </tr>\n",
       "  </tbody>\n",
       "</table>\n",
       "</div>"
      ],
      "text/plain": [
       "          order_id     quantity   item_price\n",
       "count  4622.000000  4622.000000  4622.000000\n",
       "mean    927.254868     1.075725     7.464336\n",
       "std     528.890796     0.410186     4.245557\n",
       "min       1.000000     1.000000     1.090000\n",
       "25%     477.250000     1.000000     3.390000\n",
       "50%     926.000000     1.000000     8.750000\n",
       "75%    1393.000000     1.000000     9.250000\n",
       "max    1834.000000    15.000000    44.250000"
      ]
     },
     "execution_count": 32,
     "metadata": {},
     "output_type": "execute_result"
    }
   ],
   "source": [
    "df.describe()"
   ]
  },
  {
   "cell_type": "code",
   "execution_count": 33,
   "metadata": {},
   "outputs": [
    {
     "data": {
      "text/html": [
       "<div>\n",
       "<style scoped>\n",
       "    .dataframe tbody tr th:only-of-type {\n",
       "        vertical-align: middle;\n",
       "    }\n",
       "\n",
       "    .dataframe tbody tr th {\n",
       "        vertical-align: top;\n",
       "    }\n",
       "\n",
       "    .dataframe thead th {\n",
       "        text-align: right;\n",
       "    }\n",
       "</style>\n",
       "<table border=\"1\" class=\"dataframe\">\n",
       "  <thead>\n",
       "    <tr style=\"text-align: right;\">\n",
       "      <th></th>\n",
       "      <th>order_id</th>\n",
       "      <th>quantity</th>\n",
       "      <th>item_name</th>\n",
       "      <th>choice_description</th>\n",
       "      <th>item_price</th>\n",
       "    </tr>\n",
       "  </thead>\n",
       "  <tbody>\n",
       "    <tr>\n",
       "      <th>3598</th>\n",
       "      <td>1443</td>\n",
       "      <td>15</td>\n",
       "      <td>Chips and Fresh Tomato Salsa</td>\n",
       "      <td>NaN</td>\n",
       "      <td>44.25</td>\n",
       "    </tr>\n",
       "    <tr>\n",
       "      <th>3480</th>\n",
       "      <td>1398</td>\n",
       "      <td>3</td>\n",
       "      <td>Carnitas Bowl</td>\n",
       "      <td>[Roasted Chili Corn Salsa, [Fajita Vegetables,...</td>\n",
       "      <td>35.25</td>\n",
       "    </tr>\n",
       "    <tr>\n",
       "      <th>3602</th>\n",
       "      <td>1443</td>\n",
       "      <td>4</td>\n",
       "      <td>Chicken Burrito</td>\n",
       "      <td>[Fresh Tomato Salsa, [Rice, Black Beans, Chees...</td>\n",
       "      <td>35.00</td>\n",
       "    </tr>\n",
       "    <tr>\n",
       "      <th>1254</th>\n",
       "      <td>511</td>\n",
       "      <td>4</td>\n",
       "      <td>Chicken Burrito</td>\n",
       "      <td>[Fresh Tomato Salsa, [Fajita Vegetables, Rice,...</td>\n",
       "      <td>35.00</td>\n",
       "    </tr>\n",
       "    <tr>\n",
       "      <th>3601</th>\n",
       "      <td>1443</td>\n",
       "      <td>3</td>\n",
       "      <td>Veggie Burrito</td>\n",
       "      <td>[Fresh Tomato Salsa, [Fajita Vegetables, Rice,...</td>\n",
       "      <td>33.75</td>\n",
       "    </tr>\n",
       "    <tr>\n",
       "      <th>409</th>\n",
       "      <td>178</td>\n",
       "      <td>3</td>\n",
       "      <td>Chicken Bowl</td>\n",
       "      <td>[[Fresh Tomato Salsa (Mild), Tomatillo-Green C...</td>\n",
       "      <td>32.94</td>\n",
       "    </tr>\n",
       "    <tr>\n",
       "      <th>3603</th>\n",
       "      <td>1443</td>\n",
       "      <td>3</td>\n",
       "      <td>Steak Burrito</td>\n",
       "      <td>[Fresh Tomato Salsa, [Rice, Black Beans, Chees...</td>\n",
       "      <td>27.75</td>\n",
       "    </tr>\n",
       "    <tr>\n",
       "      <th>1255</th>\n",
       "      <td>511</td>\n",
       "      <td>3</td>\n",
       "      <td>Steak Burrito</td>\n",
       "      <td>[Fresh Tomato Salsa, [Fajita Vegetables, Rice,...</td>\n",
       "      <td>27.75</td>\n",
       "    </tr>\n",
       "    <tr>\n",
       "      <th>3636</th>\n",
       "      <td>1454</td>\n",
       "      <td>3</td>\n",
       "      <td>Chicken Burrito</td>\n",
       "      <td>[Fresh Tomato Salsa, Rice]</td>\n",
       "      <td>26.25</td>\n",
       "    </tr>\n",
       "    <tr>\n",
       "      <th>1514</th>\n",
       "      <td>616</td>\n",
       "      <td>3</td>\n",
       "      <td>Chicken Bowl</td>\n",
       "      <td>[Fresh Tomato Salsa, [Rice, Black Beans, Chees...</td>\n",
       "      <td>26.25</td>\n",
       "    </tr>\n",
       "  </tbody>\n",
       "</table>\n",
       "</div>"
      ],
      "text/plain": [
       "      order_id  quantity                     item_name  \\\n",
       "3598      1443        15  Chips and Fresh Tomato Salsa   \n",
       "3480      1398         3                 Carnitas Bowl   \n",
       "3602      1443         4               Chicken Burrito   \n",
       "1254       511         4               Chicken Burrito   \n",
       "3601      1443         3                Veggie Burrito   \n",
       "409        178         3                  Chicken Bowl   \n",
       "3603      1443         3                 Steak Burrito   \n",
       "1255       511         3                 Steak Burrito   \n",
       "3636      1454         3               Chicken Burrito   \n",
       "1514       616         3                  Chicken Bowl   \n",
       "\n",
       "                                     choice_description  item_price  \n",
       "3598                                                NaN       44.25  \n",
       "3480  [Roasted Chili Corn Salsa, [Fajita Vegetables,...       35.25  \n",
       "3602  [Fresh Tomato Salsa, [Rice, Black Beans, Chees...       35.00  \n",
       "1254  [Fresh Tomato Salsa, [Fajita Vegetables, Rice,...       35.00  \n",
       "3601  [Fresh Tomato Salsa, [Fajita Vegetables, Rice,...       33.75  \n",
       "409   [[Fresh Tomato Salsa (Mild), Tomatillo-Green C...       32.94  \n",
       "3603  [Fresh Tomato Salsa, [Rice, Black Beans, Chees...       27.75  \n",
       "1255  [Fresh Tomato Salsa, [Fajita Vegetables, Rice,...       27.75  \n",
       "3636                         [Fresh Tomato Salsa, Rice]       26.25  \n",
       "1514  [Fresh Tomato Salsa, [Rice, Black Beans, Chees...       26.25  "
      ]
     },
     "execution_count": 33,
     "metadata": {},
     "output_type": "execute_result"
    }
   ],
   "source": [
    "df.sort_values('item_price',ascending=False).head(10)"
   ]
  },
  {
   "cell_type": "code",
   "execution_count": 35,
   "metadata": {},
   "outputs": [
    {
     "data": {
      "text/plain": [
       "np.float64(7.464335785374297)"
      ]
     },
     "execution_count": 35,
     "metadata": {},
     "output_type": "execute_result"
    }
   ],
   "source": [
    "df['item_price'].max()\n",
    "df['item_price'].min()\n",
    "df['item_price'].mean()"
   ]
  },
  {
   "cell_type": "code",
   "execution_count": 36,
   "metadata": {},
   "outputs": [
    {
     "data": {
      "text/plain": [
       "Index(['order_id', 'quantity', 'item_name', 'choice_description',\n",
       "       'item_price'],\n",
       "      dtype='object')"
      ]
     },
     "execution_count": 36,
     "metadata": {},
     "output_type": "execute_result"
    }
   ],
   "source": [
    "df.columns"
   ]
  },
  {
   "cell_type": "code",
   "execution_count": null,
   "metadata": {},
   "outputs": [
    {
     "data": {
      "text/plain": [
       "item_name          order_id  quantity  choice_description                                                                                                 item_price\n",
       "6 Pack Soft Drink  129       1         [Sprite]                                                                                                           6.49          1\n",
       "                   148       1         [Diet Coke]                                                                                                        6.49          1\n",
       "                   154       1         [Coke]                                                                                                             6.49          1\n",
       "                   168       1         [Diet Coke]                                                                                                        6.49          1\n",
       "                   182       1         [Diet Coke]                                                                                                        6.49          1\n",
       "                                                                                                                                                                       ..\n",
       "Veggie Soft Tacos  567       1         [Fresh Tomato Salsa (Mild), [Pinto Beans, Rice, Cheese, Sour Cream]]                                               8.49          1\n",
       "                   688       1         [Fresh Tomato Salsa, [Fajita Vegetables, Rice, Black Beans, Pinto Beans, Cheese, Sour Cream, Guacamole, Lettuce]]  11.25         1\n",
       "                   948       1         [Roasted Chili Corn Salsa, [Fajita Vegetables, Black Beans, Pinto Beans, Cheese, Lettuce]]                         8.75          1\n",
       "                   1132      1         [Roasted Chili Corn Salsa (Medium), [Black Beans, Fajita Veggies, Cheese, Sour Cream, Lettuce]]                    8.49          1\n",
       "                   1559      2         [Fresh Tomato Salsa (Mild), [Black Beans, Rice, Cheese, Lettuce]]                                                  16.98         1\n",
       "Name: count, Length: 3335, dtype: int64"
      ]
     },
     "execution_count": 39,
     "metadata": {},
     "output_type": "execute_result"
    }
   ],
   "source": [
    "df['item_name'].unique()\n",
    "\n",
    "# item_name으로 그룹핑을 해서 갯수 나열한 것\n",
    "df.groupby('item_name').value_counts()"
   ]
  }
 ],
 "metadata": {
  "kernelspec": {
   "display_name": "Python 3",
   "language": "python",
   "name": "python3"
  },
  "language_info": {
   "codemirror_mode": {
    "name": "ipython",
    "version": 3
   },
   "file_extension": ".py",
   "mimetype": "text/x-python",
   "name": "python",
   "nbconvert_exporter": "python",
   "pygments_lexer": "ipython3",
   "version": "3.12.6"
  }
 },
 "nbformat": 4,
 "nbformat_minor": 2
}

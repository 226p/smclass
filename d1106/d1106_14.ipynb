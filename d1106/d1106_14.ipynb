{
 "cells": [
  {
   "cell_type": "code",
   "execution_count": 1,
   "metadata": {},
   "outputs": [],
   "source": [
    "import pandas as pd"
   ]
  },
  {
   "cell_type": "code",
   "execution_count": 9,
   "metadata": {},
   "outputs": [
    {
     "data": {
      "text/html": [
       "<div>\n",
       "<style scoped>\n",
       "    .dataframe tbody tr th:only-of-type {\n",
       "        vertical-align: middle;\n",
       "    }\n",
       "\n",
       "    .dataframe tbody tr th {\n",
       "        vertical-align: top;\n",
       "    }\n",
       "\n",
       "    .dataframe thead th {\n",
       "        text-align: right;\n",
       "    }\n",
       "</style>\n",
       "<table border=\"1\" class=\"dataframe\">\n",
       "  <thead>\n",
       "    <tr style=\"text-align: right;\">\n",
       "      <th></th>\n",
       "      <th>[('제목', '남산의 부장들'), ('누적 관객수', 4750000)]</th>\n",
       "      <th>[('제목', '다만 악에서 구하소서'), ('누적 관객수', 4350000)]</th>\n",
       "      <th>[('제목', '반도'), ('누적 관객수', 3810000)]</th>\n",
       "      <th>[('제목', '히트맨'), ('누적 관객수', 2400000)]</th>\n",
       "      <th>[('제목', '테넷'), ('누적 관객수', 2000000)]</th>\n",
       "      <th>[('제목', '백두산'), ('누적 관객수', 8250000)]</th>\n",
       "      <th>[('제목', '#살아있다'), ('누적 관객수', 1900000)]</th>\n",
       "      <th>[('제목', '강철비2: 정상회담'), ('누적 관객수', 1790000)]</th>\n",
       "      <th>[('제목', '담보'), ('누적 관객수', 1710000)]</th>\n",
       "      <th>[('제목', '닥터 두리틀'), ('누적 관객수', 1600000)]</th>\n",
       "    </tr>\n",
       "  </thead>\n",
       "  <tbody>\n",
       "  </tbody>\n",
       "</table>\n",
       "</div>"
      ],
      "text/plain": [
       "Empty DataFrame\n",
       "Columns: [[('제목', '남산의 부장들'), ('누적 관객수', 4750000)], [('제목', '다만 악에서 구하소서'), ('누적 관객수', 4350000)], [('제목', '반도'), ('누적 관객수', 3810000)], [('제목', '히트맨'), ('누적 관객수', 2400000)], [('제목', '테넷'), ('누적 관객수', 2000000)], [('제목', '백두산'), ('누적 관객수', 8250000)], [('제목', '#살아있다'), ('누적 관객수', 1900000)], [('제목', '강철비2: 정상회담'), ('누적 관객수', 1790000)], [('제목', '담보'), ('누적 관객수', 1710000)], [('제목', '닥터 두리틀'), ('누적 관객수', 1600000)]]\n",
       "Index: []"
      ]
     },
     "execution_count": 9,
     "metadata": {},
     "output_type": "execute_result"
    }
   ],
   "source": [
    "df1 = pd.read_csv(\"daum_movie2020.csv\")\n",
    "df1\n",
    "\n",
    "# df2 = pd.read_csv(\"daum_movie2021.csv\")\n",
    "# df2\n",
    "\n",
    "# df3 = pd.read_csv(\"daum_movie2022.csv\")\n",
    "# df3\n",
    "\n",
    "# df4 = pd.read_csv(\"daum_movie2023.csv\")\n",
    "# df4\n",
    "\n",
    "# df = pd.concat([df1,df2,df3,df4])\n",
    "# df\n",
    "\n"
   ]
  }
 ],
 "metadata": {
  "kernelspec": {
   "display_name": "Python 3",
   "language": "python",
   "name": "python3"
  },
  "language_info": {
   "codemirror_mode": {
    "name": "ipython",
    "version": 3
   },
   "file_extension": ".py",
   "mimetype": "text/x-python",
   "name": "python",
   "nbconvert_exporter": "python",
   "pygments_lexer": "ipython3",
   "version": "3.12.6"
  }
 },
 "nbformat": 4,
 "nbformat_minor": 2
}

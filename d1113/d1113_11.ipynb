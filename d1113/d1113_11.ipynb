{
 "cells": [
  {
   "cell_type": "code",
   "execution_count": 40,
   "metadata": {},
   "outputs": [],
   "source": [
    "import numpy as np\n",
    "import pandas as pd\n",
    "import matplotlib.pyplot as plt\n",
    "import matplotlib\n",
    "import random\n",
    "# 한글설정\n",
    "matplotlib.rcParams['font.family'] = 'Malgun Gothic' # window용\n",
    "matplotlib.rcParams['font.size'] = 15 # 글자 크기\n",
    "matplotlib.rcParams['axes.unicode_minus'] = False \n",
    "# matplotlib.rcParams['font.family'] = 'AppleGothic'   # Mac용"
   ]
  },
  {
   "cell_type": "code",
   "execution_count": 69,
   "metadata": {},
   "outputs": [
    {
     "name": "stderr",
     "output_type": "stream",
     "text": [
      "c:\\python\\Lib\\site-packages\\openpyxl\\styles\\stylesheet.py:237: UserWarning: Workbook contains no default style, apply openpyxl's default\n",
      "  warn(\"Workbook contains no default style, apply openpyxl's default\")\n"
     ]
    },
    {
     "data": {
      "text/html": [
       "<div>\n",
       "<style scoped>\n",
       "    .dataframe tbody tr th:only-of-type {\n",
       "        vertical-align: middle;\n",
       "    }\n",
       "\n",
       "    .dataframe tbody tr th {\n",
       "        vertical-align: top;\n",
       "    }\n",
       "\n",
       "    .dataframe thead th {\n",
       "        text-align: right;\n",
       "    }\n",
       "</style>\n",
       "<table border=\"1\" class=\"dataframe\">\n",
       "  <thead>\n",
       "    <tr style=\"text-align: right;\">\n",
       "      <th></th>\n",
       "      <th>0~4세</th>\n",
       "      <th>5~9세</th>\n",
       "      <th>10~14세</th>\n",
       "      <th>15~19세</th>\n",
       "      <th>20~24세</th>\n",
       "      <th>25~29세</th>\n",
       "      <th>30~34세</th>\n",
       "      <th>35~39세</th>\n",
       "      <th>40~44세</th>\n",
       "      <th>45~49세</th>\n",
       "      <th>...</th>\n",
       "      <th>55~59세</th>\n",
       "      <th>60~64세</th>\n",
       "      <th>65~69세</th>\n",
       "      <th>70~74세</th>\n",
       "      <th>75~79세</th>\n",
       "      <th>80~84세</th>\n",
       "      <th>85~89세</th>\n",
       "      <th>90~94세</th>\n",
       "      <th>95~99세</th>\n",
       "      <th>100세 이상</th>\n",
       "    </tr>\n",
       "    <tr>\n",
       "      <th>행정기관</th>\n",
       "      <th></th>\n",
       "      <th></th>\n",
       "      <th></th>\n",
       "      <th></th>\n",
       "      <th></th>\n",
       "      <th></th>\n",
       "      <th></th>\n",
       "      <th></th>\n",
       "      <th></th>\n",
       "      <th></th>\n",
       "      <th></th>\n",
       "      <th></th>\n",
       "      <th></th>\n",
       "      <th></th>\n",
       "      <th></th>\n",
       "      <th></th>\n",
       "      <th></th>\n",
       "      <th></th>\n",
       "      <th></th>\n",
       "      <th></th>\n",
       "      <th></th>\n",
       "    </tr>\n",
       "  </thead>\n",
       "  <tbody>\n",
       "    <tr>\n",
       "      <th>전국</th>\n",
       "      <td>653,516</td>\n",
       "      <td>968,133</td>\n",
       "      <td>1,194,518</td>\n",
       "      <td>1,182,719</td>\n",
       "      <td>1,389,813</td>\n",
       "      <td>1,734,954</td>\n",
       "      <td>1,827,988</td>\n",
       "      <td>1,621,954</td>\n",
       "      <td>1,999,252</td>\n",
       "      <td>1,943,839</td>\n",
       "      <td>...</td>\n",
       "      <td>2,147,634</td>\n",
       "      <td>2,092,351</td>\n",
       "      <td>1,741,244</td>\n",
       "      <td>1,115,413</td>\n",
       "      <td>793,998</td>\n",
       "      <td>529,384</td>\n",
       "      <td>246,935</td>\n",
       "      <td>64,716</td>\n",
       "      <td>10,775</td>\n",
       "      <td>1,549</td>\n",
       "    </tr>\n",
       "  </tbody>\n",
       "</table>\n",
       "<p>1 rows × 21 columns</p>\n",
       "</div>"
      ],
      "text/plain": [
       "         0~4세     5~9세     10~14세     15~19세     20~24세     25~29세     30~34세  \\\n",
       "행정기관                                                                            \n",
       "전국    653,516  968,133  1,194,518  1,182,719  1,389,813  1,734,954  1,827,988   \n",
       "\n",
       "         35~39세     40~44세     45~49세  ...     55~59세     60~64세     65~69세  \\\n",
       "행정기관                                   ...                                    \n",
       "전국    1,621,954  1,999,252  1,943,839  ...  2,147,634  2,092,351  1,741,244   \n",
       "\n",
       "         70~74세   75~79세   80~84세   85~89세  90~94세  95~99세 100세 이상  \n",
       "행정기관                                                                \n",
       "전국    1,115,413  793,998  529,384  246,935  64,716  10,775   1,549  \n",
       "\n",
       "[1 rows x 21 columns]"
      ]
     },
     "execution_count": 69,
     "metadata": {},
     "output_type": "execute_result"
    }
   ],
   "source": [
    "df = pd.read_excel('연령별인구현황_202410.xlsx',nrows=1,skiprows=3,index_col='행정기관',usecols='B,E:Y')\n",
    "df.head()"
   ]
  },
  {
   "cell_type": "code",
   "execution_count": 11,
   "metadata": {},
   "outputs": [
    {
     "data": {
      "text/plain": [
       "Index(['0~4세', '5~9세', '10~14세', '15~19세', '20~24세', '25~29세', '30~34세',\n",
       "       '35~39세', '40~44세', '45~49세', '50~54세', '55~59세', '60~64세', '65~69세',\n",
       "       '70~74세', '75~79세', '80~84세', '85~89세', '90~94세', '95~99세', '100세 이상'],\n",
       "      dtype='object')"
      ]
     },
     "execution_count": 11,
     "metadata": {},
     "output_type": "execute_result"
    }
   ],
   "source": [
    "df.columns"
   ]
  },
  {
   "cell_type": "code",
   "execution_count": 16,
   "metadata": {},
   "outputs": [
    {
     "data": {
      "text/plain": [
       "Index(['전국  '], dtype='object', name='행정기관')"
      ]
     },
     "execution_count": 16,
     "metadata": {},
     "output_type": "execute_result"
    }
   ],
   "source": [
    "df.index"
   ]
  },
  {
   "cell_type": "code",
   "execution_count": 13,
   "metadata": {},
   "outputs": [
    {
     "data": {
      "text/plain": [
       "array([['653,516', '968,133', '1,194,518', '1,182,719', '1,389,813',\n",
       "        '1,734,954', '1,827,988', '1,621,954', '1,999,252', '1,943,839',\n",
       "        '2,250,605', '2,147,634', '2,092,351', '1,741,244', '1,115,413',\n",
       "        '793,998', '529,384', '246,935', '64,716', '10,775', '1,549']],\n",
       "      dtype=object)"
      ]
     },
     "execution_count": 13,
     "metadata": {},
     "output_type": "execute_result"
    }
   ],
   "source": [
    "df.values"
   ]
  },
  {
   "cell_type": "code",
   "execution_count": null,
   "metadata": {},
   "outputs": [
    {
     "data": {
      "text/plain": [
       "array(['전국  '], dtype=object)"
      ]
     },
     "execution_count": 21,
     "metadata": {},
     "output_type": "execute_result"
    }
   ],
   "source": [
    "df.index.values "
   ]
  },
  {
   "cell_type": "code",
   "execution_count": 36,
   "metadata": {},
   "outputs": [
    {
     "data": {
      "text/plain": [
       "array(['전국  '], dtype=object)"
      ]
     },
     "execution_count": 36,
     "metadata": {},
     "output_type": "execute_result"
    }
   ],
   "source": [
    "df.rename(index={'전국\\xa0':'전국'},inplace=True)\n",
    "df.index.values "
   ]
  },
  {
   "cell_type": "code",
   "execution_count": 35,
   "metadata": {},
   "outputs": [
    {
     "data": {
      "text/plain": [
       "Index(['전국  '], dtype='object', name='행정기관')"
      ]
     },
     "execution_count": 35,
     "metadata": {},
     "output_type": "execute_result"
    }
   ],
   "source": [
    "df.index"
   ]
  },
  {
   "cell_type": "code",
   "execution_count": 70,
   "metadata": {},
   "outputs": [
    {
     "data": {
      "text/plain": [
       "0~4세        653516\n",
       "5~9세        968133\n",
       "10~14세     1194518\n",
       "15~19세     1182719\n",
       "20~24세     1389813\n",
       "25~29세     1734954\n",
       "30~34세     1827988\n",
       "35~39세     1621954\n",
       "40~44세     1999252\n",
       "45~49세     1943839\n",
       "50~54세     2250605\n",
       "55~59세     2147634\n",
       "60~64세     2092351\n",
       "65~69세     1741244\n",
       "70~74세     1115413\n",
       "75~79세      793998\n",
       "80~84세      529384\n",
       "85~89세      246935\n",
       "90~94세       64716\n",
       "95~99세       10775\n",
       "100세 이상       1549\n",
       "Name: 전국  , dtype: object"
      ]
     },
     "execution_count": 70,
     "metadata": {},
     "output_type": "execute_result"
    }
   ],
   "source": [
    "df.iloc[0] = df.iloc[0].str.replace(\",\",\"\").astype(int)\n",
    "df.iloc[0]"
   ]
  },
  {
   "cell_type": "code",
   "execution_count": 43,
   "metadata": {},
   "outputs": [
    {
     "data": {
      "text/html": [
       "<div>\n",
       "<style scoped>\n",
       "    .dataframe tbody tr th:only-of-type {\n",
       "        vertical-align: middle;\n",
       "    }\n",
       "\n",
       "    .dataframe tbody tr th {\n",
       "        vertical-align: top;\n",
       "    }\n",
       "\n",
       "    .dataframe thead th {\n",
       "        text-align: right;\n",
       "    }\n",
       "</style>\n",
       "<table border=\"1\" class=\"dataframe\">\n",
       "  <thead>\n",
       "    <tr style=\"text-align: right;\">\n",
       "      <th></th>\n",
       "      <th>0~4세</th>\n",
       "      <th>5~9세</th>\n",
       "      <th>10~14세</th>\n",
       "      <th>15~19세</th>\n",
       "      <th>20~24세</th>\n",
       "      <th>25~29세</th>\n",
       "      <th>30~34세</th>\n",
       "      <th>35~39세</th>\n",
       "      <th>40~44세</th>\n",
       "      <th>45~49세</th>\n",
       "      <th>...</th>\n",
       "      <th>55~59세</th>\n",
       "      <th>60~64세</th>\n",
       "      <th>65~69세</th>\n",
       "      <th>70~74세</th>\n",
       "      <th>75~79세</th>\n",
       "      <th>80~84세</th>\n",
       "      <th>85~89세</th>\n",
       "      <th>90~94세</th>\n",
       "      <th>95~99세</th>\n",
       "      <th>100세 이상</th>\n",
       "    </tr>\n",
       "    <tr>\n",
       "      <th>행정기관</th>\n",
       "      <th></th>\n",
       "      <th></th>\n",
       "      <th></th>\n",
       "      <th></th>\n",
       "      <th></th>\n",
       "      <th></th>\n",
       "      <th></th>\n",
       "      <th></th>\n",
       "      <th></th>\n",
       "      <th></th>\n",
       "      <th></th>\n",
       "      <th></th>\n",
       "      <th></th>\n",
       "      <th></th>\n",
       "      <th></th>\n",
       "      <th></th>\n",
       "      <th></th>\n",
       "      <th></th>\n",
       "      <th></th>\n",
       "      <th></th>\n",
       "      <th></th>\n",
       "    </tr>\n",
       "  </thead>\n",
       "  <tbody>\n",
       "    <tr>\n",
       "      <th>전국</th>\n",
       "      <td>653516</td>\n",
       "      <td>968133</td>\n",
       "      <td>1194518</td>\n",
       "      <td>1182719</td>\n",
       "      <td>1389813</td>\n",
       "      <td>1734954</td>\n",
       "      <td>1827988</td>\n",
       "      <td>1621954</td>\n",
       "      <td>1999252</td>\n",
       "      <td>1943839</td>\n",
       "      <td>...</td>\n",
       "      <td>2147634</td>\n",
       "      <td>2092351</td>\n",
       "      <td>1741244</td>\n",
       "      <td>1115413</td>\n",
       "      <td>793998</td>\n",
       "      <td>529384</td>\n",
       "      <td>246935</td>\n",
       "      <td>64716</td>\n",
       "      <td>10775</td>\n",
       "      <td>1549</td>\n",
       "    </tr>\n",
       "  </tbody>\n",
       "</table>\n",
       "<p>1 rows × 21 columns</p>\n",
       "</div>"
      ],
      "text/plain": [
       "        0~4세    5~9세   10~14세   15~19세   20~24세   25~29세   30~34세   35~39세  \\\n",
       "행정기관                                                                         \n",
       "전국    653516  968133  1194518  1182719  1389813  1734954  1827988  1621954   \n",
       "\n",
       "       40~44세   45~49세  ...   55~59세   60~64세   65~69세   70~74세  75~79세  \\\n",
       "행정기관                    ...                                               \n",
       "전국    1999252  1943839  ...  2147634  2092351  1741244  1115413  793998   \n",
       "\n",
       "      80~84세  85~89세 90~94세 95~99세 100세 이상  \n",
       "행정기관                                        \n",
       "전국    529384  246935  64716  10775    1549  \n",
       "\n",
       "[1 rows x 21 columns]"
      ]
     },
     "execution_count": 43,
     "metadata": {},
     "output_type": "execute_result"
    }
   ],
   "source": [
    "df"
   ]
  },
  {
   "cell_type": "code",
   "execution_count": 56,
   "metadata": {},
   "outputs": [
    {
     "name": "stderr",
     "output_type": "stream",
     "text": [
      "c:\\python\\Lib\\site-packages\\openpyxl\\styles\\stylesheet.py:237: UserWarning: Workbook contains no default style, apply openpyxl's default\n",
      "  warn(\"Workbook contains no default style, apply openpyxl's default\")\n"
     ]
    },
    {
     "data": {
      "text/html": [
       "<div>\n",
       "<style scoped>\n",
       "    .dataframe tbody tr th:only-of-type {\n",
       "        vertical-align: middle;\n",
       "    }\n",
       "\n",
       "    .dataframe tbody tr th {\n",
       "        vertical-align: top;\n",
       "    }\n",
       "\n",
       "    .dataframe thead th {\n",
       "        text-align: right;\n",
       "    }\n",
       "</style>\n",
       "<table border=\"1\" class=\"dataframe\">\n",
       "  <thead>\n",
       "    <tr style=\"text-align: right;\">\n",
       "      <th></th>\n",
       "      <th>0~4세.1</th>\n",
       "      <th>5~9세.1</th>\n",
       "      <th>10~14세.1</th>\n",
       "      <th>15~19세.1</th>\n",
       "      <th>20~24세.1</th>\n",
       "      <th>25~29세.1</th>\n",
       "      <th>30~34세.1</th>\n",
       "      <th>35~39세.1</th>\n",
       "      <th>40~44세.1</th>\n",
       "      <th>45~49세.1</th>\n",
       "      <th>...</th>\n",
       "      <th>55~59세.1</th>\n",
       "      <th>60~64세.1</th>\n",
       "      <th>65~69세.1</th>\n",
       "      <th>70~74세.1</th>\n",
       "      <th>75~79세.1</th>\n",
       "      <th>80~84세.1</th>\n",
       "      <th>85~89세.1</th>\n",
       "      <th>90~94세.1</th>\n",
       "      <th>95~99세.1</th>\n",
       "      <th>100세 이상.1</th>\n",
       "    </tr>\n",
       "    <tr>\n",
       "      <th>행정기관</th>\n",
       "      <th></th>\n",
       "      <th></th>\n",
       "      <th></th>\n",
       "      <th></th>\n",
       "      <th></th>\n",
       "      <th></th>\n",
       "      <th></th>\n",
       "      <th></th>\n",
       "      <th></th>\n",
       "      <th></th>\n",
       "      <th></th>\n",
       "      <th></th>\n",
       "      <th></th>\n",
       "      <th></th>\n",
       "      <th></th>\n",
       "      <th></th>\n",
       "      <th></th>\n",
       "      <th></th>\n",
       "      <th></th>\n",
       "      <th></th>\n",
       "      <th></th>\n",
       "    </tr>\n",
       "  </thead>\n",
       "  <tbody>\n",
       "    <tr>\n",
       "      <th>전국</th>\n",
       "      <td>623,388</td>\n",
       "      <td>919,992</td>\n",
       "      <td>1,133,243</td>\n",
       "      <td>1,114,915</td>\n",
       "      <td>1,287,043</td>\n",
       "      <td>1,586,802</td>\n",
       "      <td>1,643,869</td>\n",
       "      <td>1,518,823</td>\n",
       "      <td>1,925,401</td>\n",
       "      <td>1,889,037</td>\n",
       "      <td>...</td>\n",
       "      <td>2,131,910</td>\n",
       "      <td>2,112,219</td>\n",
       "      <td>1,837,725</td>\n",
       "      <td>1,255,742</td>\n",
       "      <td>977,890</td>\n",
       "      <td>815,495</td>\n",
       "      <td>510,094</td>\n",
       "      <td>200,336</td>\n",
       "      <td>47,761</td>\n",
       "      <td>7,095</td>\n",
       "    </tr>\n",
       "  </tbody>\n",
       "</table>\n",
       "<p>1 rows × 21 columns</p>\n",
       "</div>"
      ],
      "text/plain": [
       "       0~4세.1   5~9세.1   10~14세.1   15~19세.1   20~24세.1   25~29세.1   30~34세.1  \\\n",
       "행정기관                                                                            \n",
       "전국    623,388  919,992  1,133,243  1,114,915  1,287,043  1,586,802  1,643,869   \n",
       "\n",
       "       35~39세.1   40~44세.1   45~49세.1  ...   55~59세.1   60~64세.1   65~69세.1  \\\n",
       "행정기관                                   ...                                    \n",
       "전국    1,518,823  1,925,401  1,889,037  ...  2,131,910  2,112,219  1,837,725   \n",
       "\n",
       "       70~74세.1 75~79세.1 80~84세.1 85~89세.1 90~94세.1 95~99세.1 100세 이상.1  \n",
       "행정기관                                                                    \n",
       "전국    1,255,742  977,890  815,495  510,094  200,336   47,761     7,095  \n",
       "\n",
       "[1 rows x 21 columns]"
      ]
     },
     "execution_count": 56,
     "metadata": {},
     "output_type": "execute_result"
    }
   ],
   "source": [
    "df1 = pd.read_excel('연령별인구현황_202410.xlsx',nrows=1,skiprows=3,index_col='행정기관',usecols='B,AB:AV')\n",
    "df1.head()"
   ]
  },
  {
   "cell_type": "code",
   "execution_count": 57,
   "metadata": {},
   "outputs": [
    {
     "data": {
      "text/html": [
       "<div>\n",
       "<style scoped>\n",
       "    .dataframe tbody tr th:only-of-type {\n",
       "        vertical-align: middle;\n",
       "    }\n",
       "\n",
       "    .dataframe tbody tr th {\n",
       "        vertical-align: top;\n",
       "    }\n",
       "\n",
       "    .dataframe thead th {\n",
       "        text-align: right;\n",
       "    }\n",
       "</style>\n",
       "<table border=\"1\" class=\"dataframe\">\n",
       "  <thead>\n",
       "    <tr style=\"text-align: right;\">\n",
       "      <th></th>\n",
       "      <th>0~4세.1</th>\n",
       "      <th>5~9세.1</th>\n",
       "      <th>10~14세.1</th>\n",
       "      <th>15~19세.1</th>\n",
       "      <th>20~24세.1</th>\n",
       "      <th>25~29세.1</th>\n",
       "      <th>30~34세.1</th>\n",
       "      <th>35~39세.1</th>\n",
       "      <th>40~44세.1</th>\n",
       "      <th>45~49세.1</th>\n",
       "      <th>...</th>\n",
       "      <th>55~59세.1</th>\n",
       "      <th>60~64세.1</th>\n",
       "      <th>65~69세.1</th>\n",
       "      <th>70~74세.1</th>\n",
       "      <th>75~79세.1</th>\n",
       "      <th>80~84세.1</th>\n",
       "      <th>85~89세.1</th>\n",
       "      <th>90~94세.1</th>\n",
       "      <th>95~99세.1</th>\n",
       "      <th>100세 이상.1</th>\n",
       "    </tr>\n",
       "    <tr>\n",
       "      <th>행정기관</th>\n",
       "      <th></th>\n",
       "      <th></th>\n",
       "      <th></th>\n",
       "      <th></th>\n",
       "      <th></th>\n",
       "      <th></th>\n",
       "      <th></th>\n",
       "      <th></th>\n",
       "      <th></th>\n",
       "      <th></th>\n",
       "      <th></th>\n",
       "      <th></th>\n",
       "      <th></th>\n",
       "      <th></th>\n",
       "      <th></th>\n",
       "      <th></th>\n",
       "      <th></th>\n",
       "      <th></th>\n",
       "      <th></th>\n",
       "      <th></th>\n",
       "      <th></th>\n",
       "    </tr>\n",
       "  </thead>\n",
       "  <tbody>\n",
       "    <tr>\n",
       "      <th>전국</th>\n",
       "      <td>623388</td>\n",
       "      <td>919992</td>\n",
       "      <td>1133243</td>\n",
       "      <td>1114915</td>\n",
       "      <td>1287043</td>\n",
       "      <td>1586802</td>\n",
       "      <td>1643869</td>\n",
       "      <td>1518823</td>\n",
       "      <td>1925401</td>\n",
       "      <td>1889037</td>\n",
       "      <td>...</td>\n",
       "      <td>2131910</td>\n",
       "      <td>2112219</td>\n",
       "      <td>1837725</td>\n",
       "      <td>1255742</td>\n",
       "      <td>977890</td>\n",
       "      <td>815495</td>\n",
       "      <td>510094</td>\n",
       "      <td>200336</td>\n",
       "      <td>47761</td>\n",
       "      <td>7095</td>\n",
       "    </tr>\n",
       "  </tbody>\n",
       "</table>\n",
       "<p>1 rows × 21 columns</p>\n",
       "</div>"
      ],
      "text/plain": [
       "      0~4세.1  5~9세.1 10~14세.1 15~19세.1 20~24세.1 25~29세.1 30~34세.1 35~39세.1  \\\n",
       "행정기관                                                                         \n",
       "전국    623388  919992  1133243  1114915  1287043  1586802  1643869  1518823   \n",
       "\n",
       "     40~44세.1 45~49세.1  ... 55~59세.1 60~64세.1 65~69세.1 70~74세.1 75~79세.1  \\\n",
       "행정기관                    ...                                                \n",
       "전국    1925401  1889037  ...  2131910  2112219  1837725  1255742   977890   \n",
       "\n",
       "     80~84세.1 85~89세.1 90~94세.1 95~99세.1 100세 이상.1  \n",
       "행정기관                                                \n",
       "전국     815495   510094   200336    47761      7095  \n",
       "\n",
       "[1 rows x 21 columns]"
      ]
     },
     "execution_count": 57,
     "metadata": {},
     "output_type": "execute_result"
    }
   ],
   "source": [
    "df1.iloc[0]=df1.iloc[0].str.replace(\",\",\"\").astype(int)\n",
    "df1"
   ]
  },
  {
   "cell_type": "code",
   "execution_count": 75,
   "metadata": {},
   "outputs": [
    {
     "data": {
      "image/png": "[encoded data removed]",
      "text/plain": [
       "<Figure size 1000x500 with 1 Axes>"
      ]
     },
     "metadata": {},
     "output_type": "display_data"
    }
   ],
   "source": [
    "plt.figure(figsize=(10,5))\n",
    "plt.title('2024년 10월 인구현황')\n",
    "plt.xlabel('인구수')\n",
    "plt.ylabel('연령대')\n",
    "plt.barh(df.columns,-df.iloc[0]//1000,label='남자')\n",
    "plt.barh(df.columns,df1.iloc[0]//1000,label='여자')\n",
    "\n",
    "plt.legend()\n",
    "plt.show()"
   ]
  }
 ],
 "metadata": {
  "kernelspec": {
   "display_name": "Python 3",
   "language": "python",
   "name": "python3"
  },
  "language_info": {
   "codemirror_mode": {
    "name": "ipython",
    "version": 3
   },
   "file_extension": ".py",
   "mimetype": "text/x-python",
   "name": "python",
   "nbconvert_exporter": "python",
   "pygments_lexer": "ipython3",
   "version": "3.12.6"
  }
 },
 "nbformat": 4,
 "nbformat_minor": 2
}

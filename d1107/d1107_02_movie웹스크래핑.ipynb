{
 "cells": [
  {
   "cell_type": "code",
   "execution_count": 1,
   "metadata": {},
   "outputs": [],
   "source": [
    "from bs4 import BeautifulSoup\n",
    "import time\n",
    "import csv\n"
   ]
  },
  {
   "cell_type": "code",
   "execution_count": 40,
   "metadata": {},
   "outputs": [
    {
     "name": "stdout",
     "output_type": "stream",
     "text": [
      "2020-----------------------\n"
     ]
    },
    {
     "ename": "UnsupportedOperation",
     "evalue": "not writable",
     "output_type": "error",
     "traceback": [
      "\u001b[1;31m---------------------------------------------------------------------------\u001b[0m",
      "\u001b[1;31mUnsupportedOperation\u001b[0m                      Traceback (most recent call last)",
      "Cell \u001b[1;32mIn[40], line 28\u001b[0m\n\u001b[0;32m     21\u001b[0m     \u001b[38;5;66;03m# print(f\"{i+1}\")\u001b[39;00m\n\u001b[0;32m     22\u001b[0m     \u001b[38;5;66;03m# print(\"제목 :\",title)\u001b[39;00m\n\u001b[0;32m     23\u001b[0m     \u001b[38;5;66;03m# print(\"이미지 :\",s_img)\u001b[39;00m\n\u001b[0;32m     24\u001b[0m     \u001b[38;5;66;03m# print(\"관객수 :\",number)\u001b[39;00m\n\u001b[0;32m     25\u001b[0m     \u001b[38;5;66;03m# print(\"날짜 :\",s_date)\u001b[39;00m\n\u001b[0;32m     27\u001b[0m     s_list \u001b[38;5;241m=\u001b[39m [title,number,s_date]  \n\u001b[1;32m---> 28\u001b[0m     \u001b[43mf\u001b[49m\u001b[38;5;241;43m.\u001b[39;49m\u001b[43mwritelines\u001b[49m\u001b[43m(\u001b[49m\u001b[43ms_list\u001b[49m\u001b[43m)\u001b[49m\n\u001b[0;32m     29\u001b[0m     f\u001b[38;5;241m.\u001b[39mwrite(\u001b[38;5;124mf\u001b[39m\u001b[38;5;124m'\u001b[39m\u001b[38;5;132;01m{\u001b[39;00mtitle\u001b[38;5;132;01m}\u001b[39;00m\u001b[38;5;124m,\u001b[39m\u001b[38;5;132;01m{\u001b[39;00mnumber\u001b[38;5;132;01m}\u001b[39;00m\u001b[38;5;124m,\u001b[39m\u001b[38;5;132;01m{\u001b[39;00ms_date\u001b[38;5;132;01m}\u001b[39;00m\u001b[38;5;124m'\u001b[39m)\n\u001b[0;32m     30\u001b[0m f\u001b[38;5;241m.\u001b[39mclose()\n",
      "\u001b[1;31mUnsupportedOperation\u001b[0m: not writable"
     ]
    }
   ],
   "source": [
    "topTitle = ['제목','관객수','날짜']\n",
    "\n",
    "# 파일 저장\n",
    "\n",
    "  # f.write('제목,관객수,날짜\\n')   # 글자 1번만 저장\n",
    "\n",
    "  # 웹스크래핑 시작\n",
    "for i in range(4):\n",
    "  f = open(\"screens.csv\",\"a\",encoding=\"utf-8\")\n",
    "  with open(f\"202{i}년_다음영화순위.html\",\"r\",encoding=\"utf-8\") as f:\n",
    "    soup = BeautifulSoup(f,\"lxml\")\n",
    "\n",
    "    print(f\"202{i}-----------------------\")\n",
    "    data = soup.select_one(\"#mor_history_id_0 > div > div.flipsnap_view > div > div:nth-child(1) > c-flicking-item > c-layout > div > c-list-doc > ul\")\n",
    "    screens = data.select(\"li\")\n",
    "    for i,screen in enumerate(screens):\n",
    "      title = screen.select_one(\".tit-g.clamp-g\").text.strip()\n",
    "      s_img = screen.select_one(\".wrap_thumb img\")['src']\n",
    "      number = screen.select_one(\".conts-desc.clamp-g\").text.strip()[3:-2].replace(\",\",\"\")\n",
    "      s_date = screen.select_one(\".conts-subdesc.clamp-g\").text.strip()[:-1]\n",
    "      # print(f\"{i+1}\")\n",
    "      # print(\"제목 :\",title)\n",
    "      # print(\"이미지 :\",s_img)\n",
    "      # print(\"관객수 :\",number)\n",
    "      # print(\"날짜 :\",s_date)\n",
    "\n",
    "      s_list = [title,number,s_date]  \n",
    "      f.writelines(s_list)\n",
    "      f.write(f'{title},{number},{s_date}')\n",
    "  f.close()\n",
    "\n",
    "      # print(s_list)\n",
    "\n",
    "      # f.write(','.join(s_list)+\"\\n\")\n",
    "    \n",
    "\n",
    "print(\"프로그램 완료\")"
   ]
  },
  {
   "cell_type": "code",
   "execution_count": 37,
   "metadata": {},
   "outputs": [
    {
     "name": "stdout",
     "output_type": "stream",
     "text": [
      "['서울의 봄', 1312, '2023.11.22']\n",
      "['범죄도시3', 1068, '2023.05.31']\n",
      "['엘리멘탈', 724, '2023.06.14']\n",
      "['스즈메의 문단속', 557, '2024.01.10']\n",
      "['밀수', 514, '2023.07.26']\n",
      "['더 퍼스트 슬램덩크', 488, '2023.01.04']\n",
      "['가디언즈 오브 갤럭시: Volume 3', 420, '2023.05.03']\n",
      "['미션 임파서블: 데드 레코닝 PART ONE', 402, '2023.07.12']\n",
      "['콘크리트 유토피아', 384, '2023.08.09']\n",
      "['아바타: 물의 길', 1080, '2022.12.14']\n"
     ]
    }
   ],
   "source": [
    "data = soup.select_one(\"#mor_history_id_0 > div > div.flipsnap_view > div > div:nth-child(1) > c-flicking-item > c-layout > div > c-list-doc > ul\")\n",
    "screens = data.select(\"li\")\n",
    "for i,screen in enumerate(screens):\n",
    "  # print(f\"{i+1}\")\n",
    "  title = screen.select_one(\".tit-g.clamp-g\").text.strip()\n",
    "  # print(\"제목 :\",title)\n",
    "  s_img = screen.select_one(\".wrap_thumb img\")['src']\n",
    "  # print(\"이미지 :\",s_img)\n",
    "  number = int(screen.select_one(\".conts-desc.clamp-g\").text.strip()[3:-2].replace(\",\",\"\"))\n",
    "  # print(\"관객수 :\",number)\n",
    "  s_date = screen.select_one(\".conts-subdesc.clamp-g\").text.strip()[:-1]\n",
    "  # print(\"날짜 :\",s_date)\n",
    "\n",
    "  s_list = [title,number,s_date]  \n",
    "  print(s_list)\n"
   ]
  },
  {
   "cell_type": "code",
   "execution_count": null,
   "metadata": {},
   "outputs": [],
   "source": [
    "topTitle = ['제목','관객수','날짜']\n",
    "\n",
    "f = open(\"screens.txt\",\"w\",encoding=\"utf-8\")\n",
    "# f.write(','.join(topTitle)+\"\\n\")\n",
    "f.write('제목,관객수,날짜\\n')\n",
    "f.write(','.join(s_list)+\"\\n\")\n",
    "f.close()\n",
    "\n"
   ]
  },
  {
   "cell_type": "code",
   "execution_count": null,
   "metadata": {},
   "outputs": [],
   "source": [
    "topTitle = ['제목','관객수','날짜']\n",
    "\n",
    "# 파일 저장\n",
    "f = open(\"screens.txt\",\"a\",encoding=\"utf-8\")\n",
    "  f.write('제목,관객수,날짜\\n')   # 글자 1번만 저장\n",
    "\n",
    "  # 웹스크래핑 시작\n",
    "  for i in range(4):\n",
    "    with open(f\"202{i}년_다음영화순위.html\",\"r\",encoding=\"utf-8\") as f:\n",
    "      soup = BeautifulSoup(f,\"lxml\")\n",
    "\n",
    "      print(f\"202{i}-----------------------\")\n",
    "      data = soup.select_one(\"#mor_history_id_0 > div > div.flipsnap_view > div > div:nth-child(1) > c-flicking-item > c-layout > div > c-list-doc > ul\")\n",
    "      screens = data.select(\"li\")\n",
    "      for i,screen in enumerate(screens):\n",
    "        title = screen.select_one(\".tit-g.clamp-g\").text.strip()\n",
    "        s_img = screen.select_one(\".wrap_thumb img\")['src']\n",
    "        number = int(screen.select_one(\".conts-desc.clamp-g\").text.strip()[3:-2].replace(\",\",\"\"))\n",
    "        s_date = screen.select_one(\".conts-subdesc.clamp-g\").text.strip()[:-1]\n",
    "        # print(f\"{i+1}\")\n",
    "        # print(\"제목 :\",title)\n",
    "        # print(\"이미지 :\",s_img)\n",
    "        # print(\"관객수 :\",number)\n",
    "        # print(\"날짜 :\",s_date)\n",
    "\n",
    "        s_list = [title,number,s_date]  \n",
    "        print(s_list)\n",
    "\n",
    "        f.write(','.join(s_list)+\"\\n\")\n",
    "    \n",
    "f.close()\n",
    "\n",
    "print(\"프로그램 완료\")"
   ]
  }
 ],
 "metadata": {
  "kernelspec": {
   "display_name": "Python 3",
   "language": "python",
   "name": "python3"
  },
  "language_info": {
   "codemirror_mode": {
    "name": "ipython",
    "version": 3
   },
   "file_extension": ".py",
   "mimetype": "text/x-python",
   "name": "python",
   "nbconvert_exporter": "python",
   "pygments_lexer": "ipython3",
   "version": "3.12.6"
  }
 },
 "nbformat": 4,
 "nbformat_minor": 2
}
